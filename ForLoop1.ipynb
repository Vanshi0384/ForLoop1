{
 "cells": [
  {
   "cell_type": "markdown",
   "id": "a7709a7b-ca53-47e0-a606-f888bd7f0235",
   "metadata": {},
   "source": [
    "# For Loop Assignment"
   ]
  },
  {
   "cell_type": "markdown",
   "id": "3354b8c1-fad8-46a1-8703-ceee537cb9d7",
   "metadata": {},
   "source": [
    "# Question 1"
   ]
  },
  {
   "cell_type": "code",
   "execution_count": 1,
   "id": "1c32f57a-f091-41c0-b1d0-4ac481da90ff",
   "metadata": {},
   "outputs": [
    {
     "name": "stdout",
     "output_type": "stream",
     "text": [
      "apple\n",
      "banana\n",
      "cherry\n",
      "orange\n"
     ]
    },
    {
     "name": "stdin",
     "output_type": "stream",
     "text": [
      "Guess a number between 1 and 10:  5\n"
     ]
    },
    {
     "name": "stdout",
     "output_type": "stream",
     "text": [
      "Try again.\n"
     ]
    },
    {
     "name": "stdin",
     "output_type": "stream",
     "text": [
      "Guess a number between 1 and 10:  9\n"
     ]
    },
    {
     "name": "stdout",
     "output_type": "stream",
     "text": [
      "Try again.\n"
     ]
    },
    {
     "name": "stdin",
     "output_type": "stream",
     "text": [
      "Guess a number between 1 and 10:  1\n"
     ]
    },
    {
     "name": "stdout",
     "output_type": "stream",
     "text": [
      "Try again.\n",
      "Sorry, you ran out of guesses. The secret number was 7\n"
     ]
    }
   ],
   "source": [
    "# 1. For Loops: Known Iterations\n",
    "# Use a for loop when you know exactly how many times you need to loop through a sequence of items. It's ideal for iterating over elements in a list, array, or any other iterable data structure with a pre-defined size.\n",
    "\n",
    "# Example:\n",
    "\n",
    "fruits = [\"apple\", \"banana\", \"cherry\", \"orange\"]\n",
    "\n",
    "# Loop through each fruit in the list and print its name\n",
    "for fruit in fruits:\n",
    "  print(fruit)\n",
    "  \n",
    "# 2. While Loops: Unknown Iterations\n",
    "# Use a while loop when the number of iterations is not predetermined and depends on a certain condition being met. While loops continue looping as long as the specified condition remains True.\n",
    "\n",
    "# Example:\n",
    "guess_count = 0\n",
    "secret_number = 7\n",
    "\n",
    "# Keep guessing until the user enters the correct secret number\n",
    "while guess_count < 3:  # Limit guesses to 3 attempts\n",
    "  guess = int(input(\"Guess a number between 1 and 10: \"))\n",
    "  guess_count += 1  # Increment guess count after each attempt\n",
    "  if guess == secret_number:\n",
    "    print(\"Congratulations! You guessed the number!\")\n",
    "    break  # Exit the loop if the guess is correct\n",
    "  else:\n",
    "    print(\"Try again.\")\n",
    "\n",
    "if guess_count == 3:  # Check if all guess attempts are used\n",
    "  print(\"Sorry, you ran out of guesses. The secret number was\", secret_number)\n"
   ]
  },
  {
   "cell_type": "markdown",
   "id": "f034502c-d36c-4b80-8182-0853e0193464",
   "metadata": {},
   "source": [
    "# Question 2:\n"
   ]
  },
  {
   "cell_type": "markdown",
   "id": "1a058bfd-0f60-4f7e-be35-2ce8b90b97f2",
   "metadata": {},
   "source": [
    "Using For Loop"
   ]
  },
  {
   "cell_type": "code",
   "execution_count": 2,
   "id": "f2296caa-b1ce-4bca-854c-87ea8e3a3964",
   "metadata": {},
   "outputs": [
    {
     "name": "stdout",
     "output_type": "stream",
     "text": [
      "The sum of the first 10 natural numbers is: 55\n",
      "The product of the first 10 natural numbers is: 3628800\n"
     ]
    }
   ],
   "source": [
    "# Initialize sum and product variables\n",
    "sum = 0\n",
    "product = 1\n",
    "\n",
    "# Loop through numbers 1 to 10 (inclusive)\n",
    "for num in range(1, 11):\n",
    "  # Add current number to sum\n",
    "  sum += num\n",
    "  # Multiply product by current number\n",
    "  product *= num\n",
    "\n",
    "# Print the sum and product\n",
    "print(\"The sum of the first 10 natural numbers is:\", sum)\n",
    "print(\"The product of the first 10 natural numbers is:\", product)\n"
   ]
  },
  {
   "cell_type": "markdown",
   "id": "c3ac64ad-f510-431e-9333-6f9f3a3fec89",
   "metadata": {},
   "source": [
    "Using While loop"
   ]
  },
  {
   "cell_type": "code",
   "execution_count": 3,
   "id": "839718f8-0425-4875-ba7b-01df2cbcbf85",
   "metadata": {},
   "outputs": [
    {
     "name": "stdout",
     "output_type": "stream",
     "text": [
      "The sum of the first 10 natural numbers is: 55\n",
      "The product of the first 10 natural numbers is: 3628800\n"
     ]
    }
   ],
   "source": [
    "# Initialize sum, product, and counter variables\n",
    "sum = 0\n",
    "product = 1\n",
    "counter = 1\n",
    "\n",
    "# Loop while counter is less than or equal to 10\n",
    "while counter <= 10:\n",
    "  # Add current number to sum\n",
    "  sum += counter\n",
    "  # Multiply product by current number\n",
    "  product *= counter\n",
    "  # Increment counter for the next iteration\n",
    "  counter += 1\n",
    "\n",
    "# Print the sum and product\n",
    "print(\"The sum of the first 10 natural numbers is:\", sum)\n",
    "print(\"The product of the first 10 natural numbers is:\", product)\n"
   ]
  },
  {
   "cell_type": "markdown",
   "id": "94e981a1-17ad-443c-aede-96315768b5e4",
   "metadata": {},
   "source": [
    "# Question 3"
   ]
  },
  {
   "cell_type": "code",
   "execution_count": 4,
   "id": "66e89658-6311-4671-896b-e5cdf8ecb089",
   "metadata": {},
   "outputs": [
    {
     "name": "stdin",
     "output_type": "stream",
     "text": [
      "Enter the units of electricity consumed:  1000\n"
     ]
    },
    {
     "name": "stdout",
     "output_type": "stream",
     "text": [
      "Total Electricity Bill: 16050.0\n"
     ]
    }
   ],
   "source": [
    "def calculate_electricity_bill(units):\n",
    "\n",
    "  # Define unit charges for different slabs\n",
    "  unit_charge1 = 4.5  # Upto 100 units\n",
    "  unit_charge2 = 6  # Upto next 100 units (101-200 units)\n",
    "  unit_charge3 = 10  # Upto next 100 units (201-300 units)\n",
    "  unit_charge4 = 20  # Above 300 units\n",
    "\n",
    "  # Define slab limits\n",
    "  slab_limit1 = 100\n",
    "  slab_limit2 = slab_limit1 + 100  # 200\n",
    "  slab_limit3 = slab_limit2 + 100  # 300\n",
    "\n",
    "  # Charge calculation for each slab\n",
    "  charge1 = min(units, slab_limit1) * unit_charge1\n",
    "  charge2 = min(max(units - slab_limit1, 0), slab_limit2 - slab_limit1) * unit_charge2\n",
    "  charge3 = min(max(units - slab_limit2, 0), slab_limit3 - slab_limit2) * unit_charge3\n",
    "  charge4 = max(units - slab_limit3, 0) * unit_charge4\n",
    "\n",
    "  # Total bill amount\n",
    "  total_bill = charge1 + charge2 + charge3 + charge4\n",
    "\n",
    "  return total_bill\n",
    "\n",
    "# Get user input for units consumed\n",
    "units_consumed = int(input(\"Enter the units of electricity consumed: \"))\n",
    "\n",
    "# Calculate and print the bill amount\n",
    "total_bill = calculate_electricity_bill(units_consumed)\n",
    "print(\"Total Electricity Bill:\", total_bill)\n"
   ]
  },
  {
   "cell_type": "markdown",
   "id": "0877025b-c6f2-42f2-8ecd-d873cf832453",
   "metadata": {},
   "source": [
    "# Question 4"
   ]
  },
  {
   "cell_type": "code",
   "execution_count": 5,
   "id": "a2c18064-efdf-4484-b182-b317a60803e0",
   "metadata": {},
   "outputs": [
    {
     "name": "stdout",
     "output_type": "stream",
     "text": [
      "Numbers with divisible cubes (using for loop): [2, 4, 5, 6, 8, 10, 12, 14, 15, 16, 18, 20, 22, 24, 25, 26, 28, 30, 32, 34, 35, 36, 38, 40, 42, 44, 45, 46, 48, 50, 52, 54, 55, 56, 58, 60, 62, 64, 65, 66, 68, 70, 72, 74, 75, 76, 78, 80, 82, 84, 85, 86, 88, 90, 92, 94, 95, 96, 98, 100]\n"
     ]
    }
   ],
   "source": [
    "#Using For Loop\n",
    "# Create a list of numbers from 1 to 100\n",
    "numbers = list(range(1, 101))\n",
    "\n",
    "# List to store numbers with divisible cubes\n",
    "filtered_numbers = []\n",
    "\n",
    "# Loop through each number\n",
    "for num in numbers:\n",
    "  cube = num * num * num  # Calculate cube\n",
    "  if cube % 4 == 0 or cube % 5 == 0:  # Check divisibility by 4 or 5\n",
    "    filtered_numbers.append(num)\n",
    "\n",
    "# Print the filtered list\n",
    "print(\"Numbers with divisible cubes (using for loop):\", filtered_numbers)"
   ]
  },
  {
   "cell_type": "code",
   "execution_count": 6,
   "id": "37263395-a526-4568-8ad2-e0357d06afb3",
   "metadata": {},
   "outputs": [
    {
     "name": "stdout",
     "output_type": "stream",
     "text": [
      "Numbers with divisible cubes (using while loop): [2, 4, 5, 6, 8, 10, 12, 14, 15, 16, 18, 20, 22, 24, 25, 26, 28, 30, 32, 34, 35, 36, 38, 40, 42, 44, 45, 46, 48, 50, 52, 54, 55, 56, 58, 60, 62, 64, 65, 66, 68, 70, 72, 74, 75, 76, 78, 80, 82, 84, 85, 86, 88, 90, 92, 94, 95, 96, 98, 100]\n"
     ]
    }
   ],
   "source": [
    "# Using While Loop\n",
    "# Create a list of numbers from 1 to 100\n",
    "numbers = list(range(1, 101))\n",
    "\n",
    "# List to store numbers with divisible cubes\n",
    "filtered_numbers = []\n",
    "\n",
    "# Counter variable\n",
    "counter = 0\n",
    "\n",
    "# Loop while counter is less than the list length\n",
    "while counter < len(numbers):\n",
    "  num = numbers[counter]\n",
    "  cube = num * num * num  # Calculate cube\n",
    "  if cube % 4 == 0 or cube % 5 == 0:  # Check divisibility by 4 or 5\n",
    "    filtered_numbers.append(num)\n",
    "  counter += 1  # Increment counter\n",
    "\n",
    "# Print the filtered list\n",
    "print(\"Numbers with divisible cubes (using while loop):\", filtered_numbers)\n"
   ]
  },
  {
   "cell_type": "markdown",
   "id": "25cd2226-9a8a-472c-a5b5-3fe405798fd4",
   "metadata": {},
   "source": [
    "# Question 5"
   ]
  },
  {
   "cell_type": "code",
   "execution_count": 7,
   "id": "18491608-c12e-4696-9538-be3f68c25ee6",
   "metadata": {},
   "outputs": [
    {
     "name": "stdout",
     "output_type": "stream",
     "text": [
      "Number of vowels in the string: 12\n"
     ]
    }
   ],
   "source": [
    "# Define the string\n",
    "text = \"I want to become a data scientist\"\n",
    "\n",
    "# Define vowels\n",
    "vowels = \"aeiouAEIOU\"\n",
    "\n",
    "# Initialize vowel count\n",
    "vowel_count = 0\n",
    "\n",
    "# Loop through each character in the string\n",
    "for char in text:\n",
    "  # Check if the character is a vowel\n",
    "  if char in vowels:\n",
    "    vowel_count += 1\n",
    "\n",
    "# Print the vowel count\n",
    "print(\"Number of vowels in the string:\", vowel_count)\n"
   ]
  },
  {
   "cell_type": "code",
   "execution_count": null,
   "id": "b9048c2f-a446-47f1-8a02-a73790c35fb0",
   "metadata": {},
   "outputs": [],
   "source": []
  }
 ],
 "metadata": {
  "kernelspec": {
   "display_name": "Python 3 (ipykernel)",
   "language": "python",
   "name": "python3"
  },
  "language_info": {
   "codemirror_mode": {
    "name": "ipython",
    "version": 3
   },
   "file_extension": ".py",
   "mimetype": "text/x-python",
   "name": "python",
   "nbconvert_exporter": "python",
   "pygments_lexer": "ipython3",
   "version": "3.10.8"
  }
 },
 "nbformat": 4,
 "nbformat_minor": 5
}
